{
 "metadata": {
  "name": "",
  "signature": "sha256:20342c94ae0bf329984862925e2cb3574012c5cb5bc600da4832233dc6c823b9"
 },
 "nbformat": 3,
 "nbformat_minor": 0,
 "worksheets": [
  {
   "cells": [
    {
     "cell_type": "code",
     "collapsed": false,
     "input": [
      "from gensim.models import Doc2Vec\n",
      "import cPickle as pickle\n",
      "import pandas as pd\n",
      "from wordcloud import WordCloud\n",
      "from numpy import argsort\n",
      "model_path = \"../app/WholeReviewNameAnStyleFixedAlphaTrained10x.doc2vec\"\n",
      "namelist_pickle_path = \"../app/pickles/namelist.pickle\"\n",
      "stylelist_pickle_path = \"../app/pickles/stylelist.pickle\"\n",
      "nametostyle_pickle_path = \"../app/pickles/nametostyle.pickle\"\n",
      "nametopopularity_pickle_path = \"../app/pickles/nametopopularity.pickle\"\n",
      "nametorating_pickle_path = \"../app/pickles/nametorating.pickle\"\n",
      "allbeers_csv_path = \"../../data/filtered_raw_reviews.csv\"\n",
      "font_path = \"/Library/Fonts/AppleSDGothicNeo-Light.otf\""
     ],
     "language": "python",
     "metadata": {},
     "outputs": [],
     "prompt_number": 33
    },
    {
     "cell_type": "code",
     "collapsed": false,
     "input": [
      "# this model was trained with fixed learning rate\n",
      "model = Doc2Vec.load(model_path) # load the model"
     ],
     "language": "python",
     "metadata": {},
     "outputs": [],
     "prompt_number": 2
    },
    {
     "cell_type": "code",
     "collapsed": false,
     "input": [
      "'''\n",
      "\n",
      "styles = pickle.load(open(stylelist_pickle_path, 'rb'))\n",
      "name_to_style = pickle.load(open(nametostyle_pickle_path, 'rb'))\n",
      "name_to_popularity = pickle.load(open(nametopopularity_pickle_path, 'rb'))\n",
      "name_to_popularity = pickle.load(open(nametorating_pickle_path, 'rb'))\n",
      "'''\n",
      "name_to_style = pickle.load(open(nametostyle_pickle_path, 'rb'))\n",
      "name_to_popularity = pickle.load(open(nametopopularity_pickle_path, 'rb'))\n",
      "names = pickle.load(open(namelist_pickle_path, 'rb'))"
     ],
     "language": "python",
     "metadata": {},
     "outputs": [],
     "prompt_number": 43
    },
    {
     "cell_type": "code",
     "collapsed": false,
     "input": [
      "name_info_collected = [(name, name_to_style[name], name_to_popularity[name]) for name in name_to_popularity.keys()]"
     ],
     "language": "python",
     "metadata": {},
     "outputs": [],
     "prompt_number": 10
    },
    {
     "cell_type": "code",
     "collapsed": false,
     "input": [
      "name_info_collected.sort(key=lambda tup: tup[2], reverse=True)"
     ],
     "language": "python",
     "metadata": {},
     "outputs": [],
     "prompt_number": 12
    },
    {
     "cell_type": "code",
     "collapsed": false,
     "input": [
      "name_info_collected[:10]"
     ],
     "language": "python",
     "metadata": {},
     "outputs": [
      {
       "metadata": {},
       "output_type": "pyout",
       "prompt_number": 14,
       "text": [
        "[('90_Minute_IPA', 'American_Double_/_Imperial_IPA', 1.0),\n",
        " ('Old_Rasputin_Russian_Imperial_Stout',\n",
        "  'Russian_Imperial_Stout',\n",
        "  0.9455927051671732),\n",
        " ('Sierra_Nevada_Celebration_Ale', 'American_IPA', 0.9118541033434651),\n",
        " ('Two_Hearted_Ale', 'American_IPA', 0.8291793313069908),\n",
        " ('Stone_Ruination_IPA', 'American_Double_/_Imperial_IPA', 0.8218844984802431),\n",
        " ('Arrogant_Bastard_Ale', 'American_Strong_Ale', 0.8218844984802431),\n",
        " ('Sierra_Nevada_Pale_Ale', 'American_Pale_Ale_(APA)', 0.786322188449848),\n",
        " ('Stone_IPA_(India_Pale_Ale)', 'American_IPA', 0.7826747720364742),\n",
        " ('Pliny_The_Elder', 'American_Double_/_Imperial_IPA', 0.7680851063829788),\n",
        " ('Founders_Breakfast_Stout',\n",
        "  'American_Double_/_Imperial_Stout',\n",
        "  0.7604863221884498)]"
       ]
      }
     ],
     "prompt_number": 14
    },
    {
     "cell_type": "code",
     "collapsed": false,
     "input": [
      "top_beers_by_style = []\n",
      "styles_seen = []\n",
      "for beer in name_info_collected:\n",
      "    style = beer[1]\n",
      "    if style not in styles_seen:\n",
      "        styles_seen.append(style)\n",
      "        top_beers_by_style.append(beer)"
     ],
     "language": "python",
     "metadata": {},
     "outputs": [],
     "prompt_number": 17
    },
    {
     "cell_type": "code",
     "collapsed": false,
     "input": [
      "from __future__ import print_function\n",
      "f = open(\"accuracy_test.txt\", \"w+\")\n",
      "for beer1 in top_beers_by_style:\n",
      "    for beer2 in top_beers_by_style:\n",
      "        if beer1 is not beer2:\n",
      "            print(beer1[1] + \" \" + beer1[0] + \" \" + beer2[1] + \" \" + beer2[0], file=f)"
     ],
     "language": "python",
     "metadata": {},
     "outputs": [],
     "prompt_number": 25
    },
    {
     "cell_type": "code",
     "collapsed": false,
     "input": [
      "model.accuracy('accuracy_test.txt', restrict_vocab=len(model.vocab))"
     ],
     "language": "python",
     "metadata": {},
     "outputs": [
      {
       "metadata": {},
       "output_type": "pyout",
       "prompt_number": 32,
       "text": [
        "[{'correct': [], 'incorrect': [], 'section': u'NAME STYLE ACCURACY'},\n",
        " {'correct': [], 'incorrect': [], 'section': 'total'}]"
       ]
      }
     ],
     "prompt_number": 32
    },
    {
     "cell_type": "code",
     "collapsed": false,
     "input": [
      "def most_similar_beer(positive=[], negative=[]):\n",
      "    returnable = []\n",
      "    sims = model.most_similar(positive=[b, c], negative=[a], topn=False)\n",
      "    # sort the resulting array, and represent as inidces\n",
      "    best_distance_indices = argsort(sims)[::-1]\n",
      "    for distance_index in best_distance_indices:\n",
      "        if model.index2word[distance_index] in names and model.index2word[distance_index] not in positive:\n",
      "            return model.index2word[distance_index];"
     ],
     "language": "python",
     "metadata": {},
     "outputs": [],
     "prompt_number": 47
    },
    {
     "cell_type": "code",
     "collapsed": false,
     "input": [
      "from gensim import utils\n",
      "section = {'section': \"NAME STYLE ACCURACY\", 'correct': [], 'incorrect': []}\n",
      "for line_no, line in enumerate(utils.smart_open('accuracy_test.txt')):\n",
      "    a, b, c, expected = [word for word in line.split()]\n",
      "    ignore = set(model.vocab[v].index for v in [a, b, c])  # indexes of words to ignore\n",
      "    predicted = None\n",
      "    # find the most likely prediction, ignoring OOV words and input words\n",
      "    predicted = most_similar_beer(positive=[b, c], negative=[a])\n",
      "    if predicted == expected:\n",
      "        section['correct'].append((a, b, c, expected))\n",
      "    else:\n",
      "        section['incorrect'].append((a, b, c, expected))\n",
      "correct, incorrect = len(section['correct']), len(section['incorrect'])\n",
      "if correct + incorrect > 0:\n",
      "    print(\"%s: %.1f%% (%i/%i)\" %\n",
      "        (section['section'], 100.0 * correct / (correct + incorrect),\n",
      "        correct, correct + incorrect))"
     ],
     "language": "python",
     "metadata": {},
     "outputs": [
      {
       "output_type": "stream",
       "stream": "stdout",
       "text": [
        "NAME STYLE ACCURACY: 0.0% (3/8739)\n"
       ]
      }
     ],
     "prompt_number": 48
    },
    {
     "cell_type": "code",
     "collapsed": false,
     "input": [],
     "language": "python",
     "metadata": {},
     "outputs": []
    }
   ],
   "metadata": {}
  }
 ]
}