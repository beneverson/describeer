{
 "metadata": {
  "name": "",
  "signature": "sha256:6e8d5d4bf1b44f52a0ea6ee3af1d6838a4b0ea6fd340670793265740edf07898"
 },
 "nbformat": 3,
 "nbformat_minor": 0,
 "worksheets": [
  {
   "cells": [
    {
     "cell_type": "code",
     "collapsed": false,
     "input": [
      "from gensim.models import Doc2Vec\n",
      "import cPickle as pickle\n",
      "import pandas as pd\n",
      "from wordcloud import WordCloud\n",
      "model_path = \"../app/ReviewIndividualSentencesMultiLabelFixedAlphaTrained1x.doc2vec\"\n",
      "namelist_pickle_path = \"../app/pickles/namelist.pickle\"\n",
      "stylelist_pickle_path = \"../app/pickles/stylelist.pickle\"\n",
      "nametostyle_pickle_path = \"../app/pickles/nametostyle.pickle\"\n",
      "nametopopularity_pickle_path = \"../app/pickles/nametopopularity.pickle\"\n",
      "nametorating_pickle_path = \"../app/pickles/nametorating.pickle\"\n",
      "allbeers_csv_path = \"../../data/filtered_raw_reviews.csv\"\n",
      "font_path = \"/Library/Fonts/AppleSDGothicNeo-Light.otf\""
     ],
     "language": "python",
     "metadata": {},
     "outputs": [],
     "prompt_number": 19
    },
    {
     "cell_type": "code",
     "collapsed": false,
     "input": [
      "# this model was trained with fixed learning rate\n",
      "# model = Doc2Vec.load(model_path) # load the model"
     ],
     "language": "python",
     "metadata": {},
     "outputs": [],
     "prompt_number": 2
    },
    {
     "cell_type": "code",
     "collapsed": false,
     "input": [
      "'''\n",
      "names = pickle.load(open(namelist_pickle_path, 'rb'))\n",
      "styles = pickle.load(open(stylelist_pickle_path, 'rb'))\n",
      "name_to_style = pickle.load(open(nametostyle_pickle_path, 'rb'))\n",
      "name_to_popularity = pickle.load(open(nametopopularity_pickle_path, 'rb'))\n",
      "name_to_popularity = pickle.load(open(nametorating_pickle_path, 'rb'))\n",
      "'''"
     ],
     "language": "python",
     "metadata": {},
     "outputs": [
      {
       "metadata": {},
       "output_type": "pyout",
       "prompt_number": 3,
       "text": [
        "\"\\nnames = pickle.load(open(namelist_pickle_path, 'rb'))\\nstyles = pickle.load(open(stylelist_pickle_path, 'rb'))\\nname_to_style = pickle.load(open(nametostyle_pickle_path, 'rb'))\\nname_to_popularity = pickle.load(open(nametopopularity_pickle_path, 'rb'))\\nname_to_popularity = pickle.load(open(nametorating_pickle_path, 'rb'))\\n\""
       ]
      }
     ],
     "prompt_number": 3
    },
    {
     "cell_type": "code",
     "collapsed": false,
     "input": [
      "beer_df = pd.DataFrame.from_csv(allbeers_csv_path) # load all the beer reviews"
     ],
     "language": "python",
     "metadata": {},
     "outputs": [],
     "prompt_number": 4
    },
    {
     "cell_type": "code",
     "collapsed": false,
     "input": [
      "styles_grouped = beer_df.groupby('beer/style')"
     ],
     "language": "python",
     "metadata": {},
     "outputs": [],
     "prompt_number": 5
    },
    {
     "cell_type": "code",
     "collapsed": false,
     "input": [
      "style_and_review = []\n",
      "for name, group in styles_grouped:\n",
      "    style_and_review.append((name,group.shape[0]))"
     ],
     "language": "python",
     "metadata": {},
     "outputs": [],
     "prompt_number": 6
    },
    {
     "cell_type": "code",
     "collapsed": false,
     "input": [
      "style_and_review.sort(key=lambda tup: tup[1], reverse=True)"
     ],
     "language": "python",
     "metadata": {},
     "outputs": [],
     "prompt_number": 9
    },
    {
     "cell_type": "code",
     "collapsed": false,
     "input": [
      "style_and_review[:10]"
     ],
     "language": "python",
     "metadata": {},
     "outputs": [
      {
       "metadata": {},
       "output_type": "pyout",
       "prompt_number": 10,
       "text": [
        "[('American IPA', 73702),\n",
        " ('American Double / Imperial IPA', 61102),\n",
        " ('Russian Imperial Stout', 39923),\n",
        " ('American Double / Imperial Stout', 35123),\n",
        " ('American Pale Ale (APA)', 28320),\n",
        " ('American Porter', 25767),\n",
        " ('Belgian Strong Dark Ale', 25609),\n",
        " ('American Amber / Red Ale', 20492),\n",
        " ('American Strong Ale', 20471),\n",
        " ('Witbier', 17795)]"
       ]
      }
     ],
     "prompt_number": 10
    },
    {
     "cell_type": "code",
     "collapsed": false,
     "input": [
      "# collect the reviews for american IPA\n",
      "american_ipa = styles_grouped.get_group('American IPA')\n",
      "american_ipa = american_ipa[pd.notnull(american_ipa['review/text'])]"
     ],
     "language": "python",
     "metadata": {},
     "outputs": [],
     "prompt_number": 16
    },
    {
     "cell_type": "code",
     "collapsed": false,
     "input": [
      "giant_review_corpus_ipa = \" \".join(american_ipa['review/text'].tolist())\n",
      "beerstopwords = ['beer', 'taste', 'good' ,'head', 'color', \n",
      "                 'ale', 'lager', 'style', 'nice', 'one', \n",
      "                 'bottle', 'pint', 'glass', \n",
      "                 'yeast', 'flavor',  'smell', 'IPA',\n",
      "                 'malt', 'citru', 'glas', 'bitter']"
     ],
     "language": "python",
     "metadata": {},
     "outputs": [],
     "prompt_number": 37
    },
    {
     "cell_type": "code",
     "collapsed": false,
     "input": [
      "wc = WordCloud(background_color=\"white\", font_path=font_path, max_words=2000)\n",
      "processed_text = wc.process_text(giant_review_corpus_ipa)\n",
      "beerwords_removed = [word for word in processed_text if word[0] not in beerstopwords]\n",
      "wc.fit_words(beerwords_removed)\n",
      "wc.to_file(\"american_ipa_wordcloud.png\")"
     ],
     "language": "python",
     "metadata": {},
     "outputs": [
      {
       "metadata": {},
       "output_type": "pyout",
       "prompt_number": 38,
       "text": [
        "<wordcloud.wordcloud.WordCloud at 0x109c51910>"
       ]
      }
     ],
     "prompt_number": 38
    },
    {
     "cell_type": "code",
     "collapsed": false,
     "input": [
      "russian_imperial = styles_grouped.get_group('Russian Imperial Stout')\n",
      "russian_imperial = russian_imperial[pd.notnull(russian_imperial['review/text'])]"
     ],
     "language": "python",
     "metadata": {},
     "outputs": [],
     "prompt_number": 39
    },
    {
     "cell_type": "code",
     "collapsed": false,
     "input": [
      "giant_review_corpus_ris = \" \".join(russian_imperial['review/text'].tolist())\n",
      "processed_text = wc.process_text(giant_review_corpus_ris)\n",
      "beerwords_removed = [word for word in processed_text if word[0] not in beerstopwords]\n",
      "wc.fit_words(beerwords_removed)\n",
      "wc.to_file(\"russian_imperial_stout_wordcloud.png\")"
     ],
     "language": "python",
     "metadata": {},
     "outputs": [
      {
       "metadata": {},
       "output_type": "pyout",
       "prompt_number": 40,
       "text": [
        "<wordcloud.wordcloud.WordCloud at 0x109c51910>"
       ]
      }
     ],
     "prompt_number": 40
    },
    {
     "cell_type": "code",
     "collapsed": false,
     "input": [],
     "language": "python",
     "metadata": {},
     "outputs": [],
     "prompt_number": 40
    }
   ],
   "metadata": {}
  }
 ]
}