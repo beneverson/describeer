{
 "metadata": {
  "name": "",
  "signature": "sha256:4ab33f66a639bf6b7a72acb44ab1fa63b2212c53ed585951193d13084ffa6373"
 },
 "nbformat": 3,
 "nbformat_minor": 0,
 "worksheets": [
  {
   "cells": [
    {
     "cell_type": "code",
     "collapsed": false,
     "input": [
      "from wordcloud import WordCloud\n",
      "import pandas as pd"
     ],
     "language": "python",
     "metadata": {},
     "outputs": [],
     "prompt_number": 10
    },
    {
     "cell_type": "code",
     "collapsed": false,
     "input": [
      "allbeers_csv_path = \"../../data/filtered_raw_reviews.csv\"\n",
      "beer_df = pd.DataFrame.from_csv(allbeers_csv_path) # load all the beer reviews\n",
      "beer_df = beer_df[pd.notnull(beer_df['review/text'])] # eliminating all non-null reviews"
     ],
     "language": "python",
     "metadata": {},
     "outputs": [],
     "prompt_number": 5
    },
    {
     "cell_type": "code",
     "collapsed": false,
     "input": [
      "font_path = \"/Library/Fonts/AppleSDGothicNeo-Light.otf\"\n",
      "output_path = \"/Volumes/Ben Everson/insight/data/wordclouds/\""
     ],
     "language": "python",
     "metadata": {},
     "outputs": [],
     "prompt_number": 4
    },
    {
     "cell_type": "code",
     "collapsed": false,
     "input": [
      "by_beer_name = beer_df.groupby('beer/beerId')\n",
      "beer_names = []\n",
      "beer_ids = []\n",
      "name_corpuses = []\n",
      "for name, group in by_beer_name:\n",
      "    beer_ids.append(name)\n",
      "    beer_review_corpus = \"\"\n",
      "    for individual_review in group['review/text'].tolist():\n",
      "        beer_review_corpus = beer_review_corpus + \" \" + individual_review\n",
      "    name_corpuses.append(beer_review_corpus)"
     ],
     "language": "python",
     "metadata": {},
     "outputs": [],
     "prompt_number": 8
    },
    {
     "cell_type": "code",
     "collapsed": false,
     "input": [
      "from sklearn.feature_extraction.text import TfidfTransformer, CountVectorizer, TfidfVectorizer\n",
      "vectorizer = TfidfVectorizer(stop_words='english')\n",
      "tfidf_arr = vectorizer.fit_transform(name_corpuses)"
     ],
     "language": "python",
     "metadata": {},
     "outputs": [],
     "prompt_number": 68
    },
    {
     "cell_type": "code",
     "collapsed": false,
     "input": [
      "tfidf = tfidf_arr.toarray()\n",
      "inverse = vectorizer.inverse_transform(tfidf_arr)"
     ],
     "language": "python",
     "metadata": {},
     "outputs": [],
     "prompt_number": 69
    },
    {
     "cell_type": "code",
     "collapsed": false,
     "input": [
      "name_freq_list = sorted(zip(inverse[1],tfidf[1]), key=lambda tup: tup[1], reverse=True)"
     ],
     "language": "python",
     "metadata": {},
     "outputs": [],
     "prompt_number": 81
    },
    {
     "cell_type": "code",
     "collapsed": false,
     "input": [],
     "language": "python",
     "metadata": {},
     "outputs": [
      {
       "metadata": {},
       "output_type": "pyout",
       "prompt_number": 82,
       "text": [
        "(u'wasteland', 0.02664558067844907)"
       ]
      }
     ],
     "prompt_number": 82
    },
    {
     "cell_type": "code",
     "collapsed": false,
     "input": [
      "wc = WordCloud(background_color=\"white\", font_path=font_path)\n",
      "wc.fit_words(name_freq_list)\n",
      "wc.to_file(\"test_wordcloud.png\")"
     ],
     "language": "python",
     "metadata": {},
     "outputs": [
      {
       "metadata": {},
       "output_type": "pyout",
       "prompt_number": 83,
       "text": [
        "<wordcloud.wordcloud.WordCloud at 0x26ed4e310>"
       ]
      }
     ],
     "prompt_number": 83
    },
    {
     "cell_type": "code",
     "collapsed": false,
     "input": [
      "name_freq_pairs = []\n",
      "twenty_greatest_args = tfidf[0,:].argsort()[-20:][::-1]\n",
      "for arg in twenty_greatest_args:\n",
      "    name_freq_pairs.append((vectorizer.get_feature_names()[arg], tfidf[0,:][arg]))"
     ],
     "language": "python",
     "metadata": {},
     "outputs": [],
     "prompt_number": 46
    },
    {
     "cell_type": "code",
     "collapsed": false,
     "input": [
      "wc = WordCloud(background_color=\"white\", font_path=font_path)\n",
      "wc.fit_words(name_freq_pairs)\n",
      "wc.to_file(\"test_wordcloud.png\")"
     ],
     "language": "python",
     "metadata": {},
     "outputs": [
      {
       "metadata": {},
       "output_type": "pyout",
       "prompt_number": 48,
       "text": [
        "<wordcloud.wordcloud.WordCloud at 0x26e167750>"
       ]
      }
     ],
     "prompt_number": 48
    },
    {
     "cell_type": "code",
     "collapsed": false,
     "input": [
      "wc = WordCloud(background_color=\"white\", font_path=font_path)\n",
      "processed_text = wc.process_text(name_corpuses[1314])\n",
      "beerstopwords = ['beer', 'taste', 'good' ,'head', 'color', \n",
      "                 'ale', 'lager', 'style', 'nice', 'one', \n",
      "                 'bottle', 'pint', 'glass', 'hop',\n",
      "                 'yeast', 'flavor', 'aroma', 'smell']\n",
      "beerwords_removed = [word for word in processed_text if word[0] not in beerstopwords]\n",
      "wc.fit_words(beerwords_removed)\n",
      "wc.to_file(\"test_wordcloud.png\")"
     ],
     "language": "python",
     "metadata": {},
     "outputs": [
      {
       "metadata": {},
       "output_type": "pyout",
       "prompt_number": 105,
       "text": [
        "<wordcloud.wordcloud.WordCloud at 0x26f8ee110>"
       ]
      }
     ],
     "prompt_number": 105
    },
    {
     "cell_type": "code",
     "collapsed": false,
     "input": [
      "text_processed = wc.process_text(corpus)"
     ],
     "language": "python",
     "metadata": {},
     "outputs": [],
     "prompt_number": 88
    },
    {
     "cell_type": "code",
     "collapsed": false,
     "input": [
      "text_processed"
     ],
     "language": "python",
     "metadata": {},
     "outputs": []
    },
    {
     "cell_type": "code",
     "collapsed": false,
     "input": [
      "featurenames = vectorizer.get_feature_names()"
     ],
     "language": "python",
     "metadata": {},
     "outputs": [],
     "prompt_number": 43
    },
    {
     "cell_type": "code",
     "collapsed": false,
     "input": [
      "for i in xrange(len(name_corpuses)):\n",
      "    wc = WordCloud(background_color=\"white\", font_path=font_path)\n",
      "    corpus = name_corpuses[i]\n",
      "    wc.generate(corpus)\n",
      "    filename = output_path + str(beer_ids[i]) + \".png\"\n",
      "    wc.to_file(filename)"
     ],
     "language": "python",
     "metadata": {},
     "outputs": [],
     "prompt_number": 11
    },
    {
     "cell_type": "code",
     "collapsed": false,
     "input": [],
     "language": "python",
     "metadata": {},
     "outputs": []
    }
   ],
   "metadata": {}
  }
 ]
}