{
 "metadata": {
  "name": "",
  "signature": "sha256:5d7d2b83cb6f8ac9fbba7ab61e41b3e502f3994bbf02d212b0d964afac477621"
 },
 "nbformat": 3,
 "nbformat_minor": 0,
 "worksheets": [
  {
   "cells": [
    {
     "cell_type": "code",
     "collapsed": false,
     "input": [
      "from gensim.models import Doc2Vec\n",
      "import cPickle as pickle\n",
      "model_path = \"../app/ReviewIndividualSentencesMultiLabelFixedAlphaTrained1x.doc2vec\"\n",
      "namelist_pickle_path = \"../app/pickles/namelist.pickle\"\n",
      "stylelist_pickle_path = \"../app/pickles/stylelist.pickle\"\n",
      "nametostyle_pickle_path = \"../app/pickles/nametostyle.pickle\"\n",
      "nametopopularity_pickle_path = \"../app/pickles/nametopopularity.pickle\"\n",
      "nametorating_pickle_path = \"../app/pickles/nametorating.pickle\""
     ],
     "language": "python",
     "metadata": {},
     "outputs": [],
     "prompt_number": 1
    },
    {
     "cell_type": "code",
     "collapsed": false,
     "input": [
      "# this model was trained with fixed learning rate\n",
      "model = Doc2Vec.load(model_path) # load the model"
     ],
     "language": "python",
     "metadata": {},
     "outputs": [],
     "prompt_number": 2
    },
    {
     "cell_type": "code",
     "collapsed": false,
     "input": [
      "names = pickle.load(open(namelist_pickle_path, 'rb'))\n",
      "styles = pickle.load(open(stylelist_pickle_path, 'rb'))\n",
      "name_to_style = pickle.load(open(nametostyle_pickle_path, 'rb'))\n",
      "name_to_popularity = pickle.load(open(nametopopularity_pickle_path, 'rb'))\n",
      "name_to_popularity = pickle.load(open(nametorating_pickle_path, 'rb'))"
     ],
     "language": "python",
     "metadata": {},
     "outputs": [],
     "prompt_number": 3
    },
    {
     "cell_type": "code",
     "collapsed": false,
     "input": [
      "# want to predict the beer style based on the beer vectors\n",
      "from sklearn.svm import SVC\n",
      "from sklearn import preprocessing\n",
      "from sklearn.cross_validation import train_test_split\n",
      "le = preprocessing.LabelEncoder()\n",
      "le.fit(styles)\n",
      "clf = SVC()"
     ],
     "language": "python",
     "metadata": {},
     "outputs": [],
     "prompt_number": 9
    },
    {
     "cell_type": "code",
     "collapsed": false,
     "input": [
      "y = [] # features are the beer vector representations\n",
      "X = [] # labels are the styles of the given beers\n",
      "for name in names:\n",
      "    X.append(model[name])\n",
      "    y.append(le.transform(name_to_style[name]))\n",
      "    \n",
      "# split into training/test sets\n",
      "X_train, X_test, y_train, y_test = train_test_split(X, y, test_size=0.5, random_state=42)"
     ],
     "language": "python",
     "metadata": {},
     "outputs": [],
     "prompt_number": 13
    },
    {
     "cell_type": "code",
     "collapsed": false,
     "input": [
      "clf.fit(X_train, y_train) # fit the training data"
     ],
     "language": "python",
     "metadata": {},
     "outputs": [
      {
       "metadata": {},
       "output_type": "pyout",
       "prompt_number": 14,
       "text": [
        "SVC(C=1.0, cache_size=200, class_weight=None, coef0=0.0, degree=3, gamma=0.0,\n",
        "  kernel='rbf', max_iter=-1, probability=False, random_state=None,\n",
        "  shrinking=True, tol=0.001, verbose=False)"
       ]
      }
     ],
     "prompt_number": 14
    },
    {
     "cell_type": "code",
     "collapsed": false,
     "input": [
      "clf.score(X_test, y_test)"
     ],
     "language": "python",
     "metadata": {},
     "outputs": [
      {
       "metadata": {},
       "output_type": "pyout",
       "prompt_number": 16,
       "text": [
        "0.014285714285714285"
       ]
      }
     ],
     "prompt_number": 16
    },
    {
     "cell_type": "code",
     "collapsed": false,
     "input": [],
     "language": "python",
     "metadata": {},
     "outputs": [
      {
       "output_type": "stream",
       "stream": "stdout",
       "text": [
        "                                     precision    recall  f1-score   support\n",
        "\n",
        "                    American_Porter       0.00      0.00      0.00         2\n",
        "                Munich_Dunkel_Lager       0.00      0.00      0.00        13\n",
        "            American_Pale_Wheat_Ale       0.00      0.00      0.00        18\n",
        "                 Flanders_Oud_Bruin       0.00      0.00      0.00         2\n",
        "     American_Double_/_Imperial_IPA       0.00      0.00      0.00        14\n",
        "            American_Pale_Ale_(APA)       0.00      0.00      0.00         6\n",
        "                        Pumpkin_Ale       0.00      0.00      0.00         3\n",
        "                             Tripel       0.00      0.00      0.00        13\n",
        "                      Kristalweizen       0.00      0.03      0.01        36\n",
        "                    Irish_Dry_Stout       0.00      0.00      0.00         2\n",
        "                    American_Porter       0.00      0.00      0.00        26\n",
        "                   Quadrupel_(Quad)       0.02      0.18      0.04        50\n",
        "                            Eisbock       0.00      0.00      0.00         1\n",
        "             Saison_/_Farmhouse_Ale       0.00      0.00      0.00        26\n",
        "            Belgian_Strong_Pale_Ale       0.00      0.00      0.00         2\n",
        "              M\u00e4rzen_/_Oktoberfest       0.00      0.00      0.00        11\n",
        "                       American_IPA       0.00      0.00      0.00        21\n",
        "                     American_Stout       0.00      0.00      0.00        12\n",
        "            American_Pale_Wheat_Ale       0.00      0.00      0.00        18\n",
        "                American_Strong_Ale       0.00      0.00      0.00         5\n",
        "                  English_Brown_Ale       0.00      0.00      0.00        10\n",
        "               Herbed_/_Spiced_Beer       0.00      0.00      0.00         2\n",
        "                    American_Porter       0.00      0.00      0.00         6\n",
        "                      Irish_Red_Ale       0.00      0.00      0.00         9\n",
        "             Saison_/_Farmhouse_Ale       0.00      0.00      0.00        20\n",
        "                 Berliner_Weissbier       0.00      0.00      0.00        16\n",
        "                    Euro_Pale_Lager       0.00      0.00      0.00         2\n",
        "               Herbed_/_Spiced_Beer       0.00      0.00      0.00         1\n",
        "            Belgian_Strong_Pale_Ale       0.00      0.00      0.00         5\n",
        "                         Weizenbock       0.00      0.00      0.00         3\n",
        "                   Belgian_Pale_Ale       0.00      0.00      0.00         4\n",
        "            American_Pale_Ale_(APA)       0.00      0.00      0.00         3\n",
        "                         Doppelbock       0.00      0.00      0.00         1\n",
        "                American_Pale_Lager       0.00      0.00      0.00         3\n",
        "            American_Pale_Ale_(APA)       0.00      0.00      0.00         5\n",
        "             Fruit_/_Vegetable_Beer       0.00      0.00      0.00        10\n",
        "                      Winter_Warmer       0.00      0.00      0.00         8\n",
        "                    Bi\u00e8re_de_Garde       0.00      0.00      0.00         2\n",
        "                       American_IPA       0.00      0.00      0.00         3\n",
        "               American_Malt_Liquor       0.00      0.00      0.00         5\n",
        "   American_Double_/_Imperial_Stout       0.00      0.00      0.00         1\n",
        "                    Irish_Dry_Stout       0.00      0.00      0.00        10\n",
        "             Russian_Imperial_Stout       0.00      0.00      0.00         9\n",
        "            American_Pale_Ale_(APA)       0.00      0.00      0.00        11\n",
        "            Belgian_Strong_Dark_Ale       0.00      0.00      0.00         5\n",
        "           American_Amber_/_Red_Ale       0.00      0.00      0.00         1\n",
        "                 American_Brown_Ale       0.00      0.00      0.00         1\n",
        "                 American_Black_Ale       0.00      0.00      0.00         6\n",
        "                American_Barleywine       0.00      0.00      0.00         1\n",
        "     American_Double_/_Imperial_IPA       0.00      0.00      0.00         6\n",
        "            Belgian_Strong_Pale_Ale       0.00      0.00      0.00         4\n",
        "                 American_Brown_Ale       0.00      0.00      0.00         3\n",
        "                 American_Brown_Ale       0.00      0.00      0.00         3\n",
        "                        Pumpkin_Ale       0.00      0.00      0.00        18\n",
        "                    Euro_Pale_Lager       0.00      0.00      0.00         6\n",
        "                Munich_Dunkel_Lager       0.00      0.00      0.00         5\n",
        "             Fruit_/_Vegetable_Beer       0.00      0.00      0.00        11\n",
        "                             Gueuze       0.00      0.00      0.00         4\n",
        "             Fruit_/_Vegetable_Beer       0.00      0.00      0.00         7\n",
        "                        Belgian_IPA       0.00      0.00      0.00         4\n",
        "                             Tripel       0.00      0.00      0.00         1\n",
        "                       American_IPA       0.00      0.00      0.00         2\n",
        "                   Belgian_Dark_Ale       0.00      0.00      0.00         3\n",
        "             Fruit_/_Vegetable_Beer       0.00      0.00      0.00         7\n",
        "             Saison_/_Farmhouse_Ale       0.00      0.00      0.00         1\n",
        "                         Doppelbock       0.00      0.00      0.00         5\n",
        "                        Light_Lager       0.00      0.00      0.00         8\n",
        "                     American_Stout       0.00      0.00      0.00         5\n",
        "            American_Pale_Ale_(APA)       0.00      0.00      0.00         4\n",
        "                       Vienna_Lager       0.00      0.00      0.00         5\n",
        "                            Witbier       0.00      0.00      0.00         8\n",
        "   American_Double_/_Imperial_Stout       0.00      0.00      0.00         6\n",
        "            American_Pale_Wheat_Ale       0.00      0.00      0.00         4\n",
        "                   Quadrupel_(Quad)       0.00      0.00      0.00         6\n",
        "                  English_Brown_Ale       0.00      0.00      0.00        14\n",
        "                         Hefeweizen       0.00      0.00      0.00         1\n",
        "            American_Pale_Ale_(APA)       0.00      0.00      0.00        21\n",
        "                             Tripel       0.00      0.00      0.00         4\n",
        "             Russian_Imperial_Stout       0.00      0.00      0.00         1\n",
        "                      Baltic_Porter       0.00      0.00      0.00        21\n",
        "                         Doppelbock       0.00      0.00      0.00         5\n",
        "             Saison_/_Farmhouse_Ale       0.00      0.00      0.00         8\n",
        "           American_Amber_/_Red_Ale       0.00      0.00      0.00         2\n",
        "                      Kristalweizen       0.00      0.00      0.00         2\n",
        "           American_Amber_/_Red_Ale       0.00      0.00      0.00         1\n",
        "Extra_Special_/_Strong_Bitter_(ESB)       0.00      0.00      0.00         8\n",
        "                       Scottish_Ale       0.00      0.00      0.00         1\n",
        "                            Witbier       0.00      0.00      0.00         5\n",
        "                 Berliner_Weissbier       0.00      0.00      0.00         2\n",
        "   American_Double_/_Imperial_Stout       0.00      0.00      0.00        11\n",
        "                    American_Porter       0.00      0.00      0.00        13\n",
        "\n",
        "                        avg / total       0.00      0.01      0.00       700\n",
        "\n"
       ]
      }
     ],
     "prompt_number": 15
    },
    {
     "cell_type": "code",
     "collapsed": false,
     "input": [],
     "language": "python",
     "metadata": {},
     "outputs": [],
     "prompt_number": 15
    }
   ],
   "metadata": {}
  }
 ]
}