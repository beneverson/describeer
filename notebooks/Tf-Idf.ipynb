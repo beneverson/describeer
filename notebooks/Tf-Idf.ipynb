{
 "metadata": {
  "name": "",
  "signature": "sha256:bbc7420e3081783da58e2540f8e0baf8fa4999436c4fc2d77176915c82758728"
 },
 "nbformat": 3,
 "nbformat_minor": 0,
 "worksheets": [
  {
   "cells": [
    {
     "cell_type": "code",
     "collapsed": false,
     "input": [
      "from sklearn.feature_extraction.text import TfidfVectorizer\n",
      "from sklearn.decomposition import PCA\n",
      "import pandas as pd\n",
      "import numpy as np\n",
      "model_path = \"../app/ReviewIndividualSentencesMultiLabelFixedAlphaTrained1x.doc2vec\"\n",
      "namelist_pickle_path = \"../app/pickles/namelist.pickle\"\n",
      "stylelist_pickle_path = \"../app/pickles/stylelist.pickle\"\n",
      "nametostyle_pickle_path = \"../app/pickles/nametostyle.pickle\"\n",
      "nametopopularity_pickle_path = \"../app/pickles/nametopopularity.pickle\"\n",
      "nametorating_pickle_path = \"../app/pickles/nametorating.pickle\"\n",
      "allbeers_csv_path = \"../../data/filtered_raw_reviews.csv\""
     ],
     "language": "python",
     "metadata": {},
     "outputs": [],
     "prompt_number": 1
    },
    {
     "cell_type": "code",
     "collapsed": false,
     "input": [
      "beer_df = pd.DataFrame.from_csv(allbeers_csv_path) # load all the beer reviews"
     ],
     "language": "python",
     "metadata": {},
     "outputs": [],
     "prompt_number": 2
    },
    {
     "cell_type": "code",
     "collapsed": false,
     "input": [
      "beer_df.columns"
     ],
     "language": "python",
     "metadata": {},
     "outputs": [
      {
       "metadata": {},
       "output_type": "pyout",
       "prompt_number": 3,
       "text": [
        "Index([u'beer/ABV', u'beer/beerId', u'beer/brewerId', u'beer/name', u'beer/style', u'review/appearance', u'review/aroma', u'review/overall', u'review/palate', u'review/profileName', u'review/taste', u'review/text', u'review/time'], dtype='object')"
       ]
      }
     ],
     "prompt_number": 3
    },
    {
     "cell_type": "code",
     "collapsed": false,
     "input": [
      "beer_df = beer_df[pd.notnull(beer_df['review/text'])]\n",
      "vec = TfidfVectorizer(sublinear_tf=True, max_df=0.5, analyzer='word', stop_words='english')\n",
      "X = vec.fit_transform(beer_df['review/text'].tolist())"
     ],
     "language": "python",
     "metadata": {},
     "outputs": []
    },
    {
     "cell_type": "code",
     "collapsed": false,
     "input": [
      "pca = PCA(n_components=2)\n",
      "X_partial_pca = pca.fit_transform(X[:10000].toarray())"
     ],
     "language": "python",
     "metadata": {},
     "outputs": []
    },
    {
     "cell_type": "code",
     "collapsed": false,
     "input": [
      "\n"
     ],
     "language": "python",
     "metadata": {},
     "outputs": []
    },
    {
     "cell_type": "code",
     "collapsed": false,
     "input": [],
     "language": "python",
     "metadata": {},
     "outputs": []
    }
   ],
   "metadata": {}
  }
 ]
}