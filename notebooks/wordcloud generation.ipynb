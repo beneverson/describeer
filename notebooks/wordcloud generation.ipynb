{
 "metadata": {
  "name": "",
  "signature": "sha256:f0d7bd91fe7ba7436eea720333ca90c1a05e1fd51c1240a779602a35821e7332"
 },
 "nbformat": 3,
 "nbformat_minor": 0,
 "worksheets": [
  {
   "cells": [
    {
     "cell_type": "code",
     "collapsed": false,
     "input": [
      "from wordcloud import WordCloud\n",
      "import pandas as pd"
     ],
     "language": "python",
     "metadata": {},
     "outputs": [],
     "prompt_number": 10
    },
    {
     "cell_type": "code",
     "collapsed": false,
     "input": [
      "allbeers_csv_path = \"../../data/filtered_raw_reviews.csv\"\n",
      "beer_df = pd.DataFrame.from_csv(allbeers_csv_path) # load all the beer reviews\n",
      "beer_df = beer_df[pd.notnull(beer_df['review/text'])] # eliminating all non-null reviews"
     ],
     "language": "python",
     "metadata": {},
     "outputs": [],
     "prompt_number": 5
    },
    {
     "cell_type": "code",
     "collapsed": false,
     "input": [
      "font_path = \"/Library/Fonts/AppleSDGothicNeo-Light.otf\"\n",
      "output_path = \"/Volumes/Ben Everson/insight/data/wordclouds/\""
     ],
     "language": "python",
     "metadata": {},
     "outputs": [],
     "prompt_number": 4
    },
    {
     "cell_type": "code",
     "collapsed": false,
     "input": [
      "by_beer_name = beer_df.groupby('beer/beerId')\n",
      "beer_names = []\n",
      "beer_ids = []\n",
      "name_corpuses = []\n",
      "for name, group in by_beer_name:\n",
      "    beer_ids.append(name)\n",
      "    beer_review_corpus = \"\"\n",
      "    for individual_review in group['review/text'].tolist():\n",
      "        beer_review_corpus = beer_review_corpus + \" \" + individual_review\n",
      "    name_corpuses.append(beer_review_corpus)"
     ],
     "language": "python",
     "metadata": {},
     "outputs": [],
     "prompt_number": 8
    },
    {
     "cell_type": "code",
     "collapsed": false,
     "input": [
      "wc = WordCloud(background_color=\"white\", font_path=font_path)\n",
      "processed_text = wc.process_text(name_corpuses[1314])\n",
      "beerstopwords = ['beer', 'taste', 'good' ,'head', 'color', \n",
      "                 'ale', 'lager', 'style', 'nice', 'one', \n",
      "                 'bottle', 'pint', 'glass', 'hop',\n",
      "                 'yeast', 'flavor', 'aroma', 'smell']\n",
      "beerwords_removed = [word for word in processed_text if word[0] not in beerstopwords]\n",
      "wc.fit_words(beerwords_removed)\n",
      "wc.to_file(\"test_wordcloud.png\")"
     ],
     "language": "python",
     "metadata": {},
     "outputs": [
      {
       "metadata": {},
       "output_type": "pyout",
       "prompt_number": 105,
       "text": [
        "<wordcloud.wordcloud.WordCloud at 0x26f8ee110>"
       ]
      }
     ],
     "prompt_number": 105
    },
    {
     "cell_type": "code",
     "collapsed": false,
     "input": [
      "for i in xrange(len(name_corpuses)):\n",
      "    wc = WordCloud(background_color=\"white\", font_path=font_path)\n",
      "    processed_text = wc.process_text(name_corpuses[i])\n",
      "    beerstopwords = ['beer', 'taste', 'good' ,'head', 'color', \n",
      "                     'ale', 'lager', 'style', 'nice', 'one', \n",
      "                     'bottle', 'pint', 'glass', 'hop',\n",
      "                     'yeast', 'flavor', 'aroma', 'smell']\n",
      "    beerwords_removed = [word for word in processed_text if word[0] not in beerstopwords]\n",
      "    wc.fit_words(beerwords_removed)\n",
      "    filename = output_path + str(beer_ids[i]) + \".png\"\n",
      "    wc.to_file(filename)"
     ],
     "language": "python",
     "metadata": {},
     "outputs": [],
     "prompt_number": 107
    },
    {
     "cell_type": "code",
     "collapsed": false,
     "input": [],
     "language": "python",
     "metadata": {},
     "outputs": []
    }
   ],
   "metadata": {}
  }
 ]
}